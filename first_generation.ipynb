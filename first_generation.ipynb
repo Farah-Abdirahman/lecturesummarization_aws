{
 "cells": [
  {
   "cell_type": "code",
   "execution_count": 1,
   "metadata": {},
   "outputs": [],
   "source": [
    "# %pip install boto3\n",
    "import boto3\n",
    "import json"
   ]
  },
  {
   "cell_type": "code",
   "execution_count": 2,
   "metadata": {},
   "outputs": [],
   "source": [
    "bedrock_runtime = boto3.client('bedrock-runtime',region_name= 'us-west-2')\n",
    "# We give the name of the service we want to connect with and use the region that supports Bedrock\n",
    "\n"
   ]
  },
  {
   "cell_type": "code",
   "execution_count": 16,
   "metadata": {},
   "outputs": [],
   "source": [
    "prompt = \"write one sentence summary of nairobi and be accurate\"\n",
    "# Lets create a text prompt\n",
    "# Lets put other details to our Key word argument\n",
    "kwargs={\n",
    "    'modelId':'amazon.titan-text-lite-v1',\n",
    "    'contentType':'application/json',\n",
    "    'accept':'*/*',\n",
    "    'body':json.dumps(\n",
    "\n",
    "    {\n",
    "        'inputText':prompt\n",
    "    }\n",
    "    )\n",
    "}"
   ]
  },
  {
   "cell_type": "code",
   "execution_count": 17,
   "metadata": {},
   "outputs": [
    {
     "data": {
      "text/plain": [
       "{'ResponseMetadata': {'RequestId': '616272c1-12a8-4b3f-8fee-6d1cec03e22f',\n",
       "  'HTTPStatusCode': 200,\n",
       "  'HTTPHeaders': {'date': 'Tue, 20 Feb 2024 10:14:25 GMT',\n",
       "   'content-type': 'application/json',\n",
       "   'content-length': '175',\n",
       "   'connection': 'keep-alive',\n",
       "   'x-amzn-requestid': '616272c1-12a8-4b3f-8fee-6d1cec03e22f',\n",
       "   'x-amzn-bedrock-invocation-latency': '851',\n",
       "   'x-amzn-bedrock-output-token-count': '17',\n",
       "   'x-amzn-bedrock-input-token-count': '10'},\n",
       "  'RetryAttempts': 0},\n",
       " 'contentType': 'application/json',\n",
       " 'body': <botocore.response.StreamingBody at 0x170e9093970>}"
      ]
     },
     "execution_count": 17,
     "metadata": {},
     "output_type": "execute_result"
    }
   ],
   "source": [
    "# Unpack all these key word arguments\n",
    "response=bedrock_runtime.invoke_model(**kwargs)\n",
    "response"
   ]
  },
  {
   "cell_type": "code",
   "execution_count": 18,
   "metadata": {},
   "outputs": [
    {
     "name": "stdout",
     "output_type": "stream",
     "text": [
      "{\n",
      "    \"inputTextTokenCount\": 10,\n",
      "    \"results\": [\n",
      "        {\n",
      "            \"tokenCount\": 17,\n",
      "            \"outputText\": \"\\nNairobi is the capital of Kenya and is located on the east African coast.\",\n",
      "            \"completionReason\": \"FINISH\"\n",
      "        }\n",
      "    ]\n",
      "}\n"
     ]
    }
   ],
   "source": [
    "# Load the json string and get body and read the body and dump into response body variable\n",
    "response_body = json.loads(response.get('body').read())\n",
    "print(json.dumps(response_body,indent=4))"
   ]
  },
  {
   "cell_type": "code",
   "execution_count": 19,
   "metadata": {},
   "outputs": [
    {
     "name": "stdout",
     "output_type": "stream",
     "text": [
      "\n",
      "Nairobi is the capital of Kenya and is located on the east African coast.\n"
     ]
    }
   ],
   "source": [
    "print(response_body['results'][0]['outputText'])"
   ]
  },
  {
   "cell_type": "markdown",
   "metadata": {},
   "source": [
    "Part Two : Generation Configuration"
   ]
  },
  {
   "cell_type": "code",
   "execution_count": 30,
   "metadata": {},
   "outputs": [],
   "source": [
    "prompt = \"write a summary of Nairobi City\"\n",
    "# Lets create a text prompt\n",
    "# Lets put other details to our Key word argument\n",
    "kwargs={\n",
    "    'modelId':'amazon.titan-text-lite-v1',\n",
    "    'contentType':'application/json',\n",
    "    'accept':'*/*',\n",
    "    'body':json.dumps(\n",
    "\n",
    "    {\n",
    "        'inputText':prompt,\n",
    "        \"textGenerationConfig\":{\n",
    "            'maxTokenCount':500,\n",
    "            'temperature':0.7,\n",
    "            'topP':0.9\n",
    "        }\n",
    "    }\n",
    "    )\n",
    "}"
   ]
  },
  {
   "cell_type": "code",
   "execution_count": 31,
   "metadata": {},
   "outputs": [
    {
     "data": {
      "text/plain": [
       "{'ResponseMetadata': {'RequestId': 'c57e7d79-a113-44cc-82f5-eddd29a62ae9',\n",
       "  'HTTPStatusCode': 200,\n",
       "  'HTTPHeaders': {'date': 'Tue, 20 Feb 2024 10:26:13 GMT',\n",
       "   'content-type': 'application/json',\n",
       "   'content-length': '820',\n",
       "   'connection': 'keep-alive',\n",
       "   'x-amzn-requestid': 'c57e7d79-a113-44cc-82f5-eddd29a62ae9',\n",
       "   'x-amzn-bedrock-invocation-latency': '5538',\n",
       "   'x-amzn-bedrock-output-token-count': '176',\n",
       "   'x-amzn-bedrock-input-token-count': '6'},\n",
       "  'RetryAttempts': 0},\n",
       " 'contentType': 'application/json',\n",
       " 'body': <botocore.response.StreamingBody at 0x170e90eef80>}"
      ]
     },
     "execution_count": 31,
     "metadata": {},
     "output_type": "execute_result"
    }
   ],
   "source": [
    "# Unpack all these key word arguments\n",
    "response=bedrock_runtime.invoke_model(**kwargs)\n",
    "response"
   ]
  },
  {
   "cell_type": "code",
   "execution_count": 32,
   "metadata": {},
   "outputs": [
    {
     "name": "stdout",
     "output_type": "stream",
     "text": [
      " County\n",
      "The article provides a general overview of Nairobi City County, which is the capital city of Kenya. It was established in 2016 through a constitutional amendment and is the largest city in Kenya. The county has a population of approximately 4.6 million people and covers an area of approximately 600 square kilometers. Nairobi City County is home to a significant portion of Kenya's economy, including various industries, financial institutions, and multinational corporations. The article highlights some of the challenges facing Nairobi, such as urban sprawl, traffic congestion, and inadequate housing, as well as efforts to address these issues through sustainable development initiatives.\n"
     ]
    }
   ],
   "source": [
    "\n",
    "# Load the json string and get body and read the body and dump into response body variable\n",
    "response = bedrock_runtime.invoke_model(**kwargs)\n",
    "response_body = json.loads(response.get('body').read())\n",
    "\n",
    "generation = response_body['results'][0]['outputText']\n",
    "print(generation)"
   ]
  },
  {
   "cell_type": "code",
   "execution_count": 33,
   "metadata": {},
   "outputs": [
    {
     "name": "stdout",
     "output_type": "stream",
     "text": [
      "{\n",
      "    \"inputTextTokenCount\": 6,\n",
      "    \"results\": [\n",
      "        {\n",
      "            \"tokenCount\": 129,\n",
      "            \"outputText\": \" County\\nThe article provides a general overview of Nairobi City County, which is the capital city of Kenya. It was established in 2016 through a constitutional amendment and is the largest city in Kenya. The county has a population of approximately 4.6 million people and covers an area of approximately 600 square kilometers. Nairobi City County is home to a significant portion of Kenya's economy, including various industries, financial institutions, and multinational corporations. The article highlights some of the challenges facing Nairobi, such as urban sprawl, traffic congestion, and inadequate housing, as well as efforts to address these issues through sustainable development initiatives.\",\n",
      "            \"completionReason\": \"FINISH\"\n",
      "        }\n",
      "    ]\n",
      "}\n"
     ]
    }
   ],
   "source": [
    "print(json.dumps(response_body,indent=4))\n",
    "# completion reason is length not finish showing it has not finish its generation"
   ]
  },
  {
   "cell_type": "markdown",
   "metadata": {},
   "source": [
    "Part Three: Working with other data types"
   ]
  },
  {
   "cell_type": "code",
   "execution_count": 36,
   "metadata": {},
   "outputs": [],
   "source": [
    "from IPython.display import Audio\n",
    "audio = Audio(filename='dialog.mp3')\n",
    "display=audio\n"
   ]
  },
  {
   "cell_type": "code",
   "execution_count": 38,
   "metadata": {},
   "outputs": [
    {
     "name": "stdout",
     "output_type": "stream",
     "text": [
      "spk_0: Hi, is this the Crystal Heights Hotel in Singapore? \n",
      "spk_1: Yes, it is. Good afternoon. How may I assist you today? \n",
      "spk_0: Fantastic, good afternoon. I was looking to book a room for my 10th wedding anniversary. Ive heard your hotel offers exceptional views and services. Could you tell me more? \n",
      "spk_1: Absolutely, Alex and congratulations on your upcoming anniversary. Thats a significant milestone and wed be honored to make it a special occasion for you. We have several room types that offer stunning views of the city skyline and the fictional Sapphire Bay. Our special diamond suite even comes with exclusive access to the moonlit pool and star deck. We also have in house spa services, world class dining options and a shopping arcade. \n",
      "spk_0: That sounds heavenly. I think my spouse would love the moonlit pool. Can you help me make a reservation for one of your diamond suites with a sapphire bay view? \n",
      "spk_1: Of course. May I know the dates you planning to visit? \n",
      "spk_0: Sure. It would be from October 10th to 17th. \n",
      "spk_1: Excellent. Let me check the availability. Ah It looks like we have a diamond suite available for those dates. Would you like to proceed with the reservation? \n",
      "spk_0: Definitely. Whats included in the package? \n",
      "spk_1: Wonderful. The package includes breakfast, complimentary access to the moonlit pool and star deck. A one time spa treatment for two and a special romantic dinner at our cloud nine restaurant. \n",
      "spk_0: You making it impossible to resist. Lets go ahead with the booking. \n",
      "spk_1: Great. I'll need some personal information for the reservation. Can I get your full name, contact details and a credit card for the preauthorizations? \n",
      "spk_0: Certainly. My full name is Alexander Thompson. My contact number is 12345678910. And the credit card is, wait, did you say pre authorization? How much would that be? \n",
      "spk_1: Ah, I should have mentioned that earlier. My apologies. A pre authorization amount of '$1000' will be held on your card which would be released upon checkout. \n",
      "spk_0: '$1000'. That seems a bit excessive. Don't you think \n",
      "spk_1: I understand your concern, Alex. The pre authorization is a standard procedure to cover any incidental expenses you may incur during your stay. However, I assure you its only a hold and not an actual charge. \n",
      "spk_0: Thats still a lot. Are there any additional charges that I should know about? \n",
      "spk_1: Well, there is a 10% service charge and a 7% fantasy tax applied to the room rate. \n",
      "spk_0: Mm. You know what its a special occasion. So lets go ahead. \n",
      "spk_1: Thank you, Alex for understanding. Will ensure that your experience at Crystal Heights is well worth it. \n"
     ]
    }
   ],
   "source": [
    "\n",
    "with open('transcript.txt','r') as file:\n",
    "    dialogue_text = file.read()\n",
    "\n",
    "print(dialogue_text)"
   ]
  },
  {
   "cell_type": "code",
   "execution_count": 39,
   "metadata": {},
   "outputs": [],
   "source": [
    "prompt = f\"\"\"The text between the <transcript> XML Tag is a transcript of a conversation.\n",
    "write a short summary of the conversation.\n",
    "\n",
    "<transcript>\n",
    "{dialogue_text}\n",
    "<transcript>\n",
    "\n",
    "Here is a summary of the converstaion : \"\"\""
   ]
  },
  {
   "cell_type": "code",
   "execution_count": 40,
   "metadata": {},
   "outputs": [],
   "source": [
    "kwargs = {\n",
    "    \"modelId\": \"amazon.titan-text-express-v1\",\n",
    "    \"contentType\": \"application/json\",\n",
    "    \"accept\": \"*/*\",\n",
    "    \"body\": json.dumps(\n",
    "        {\n",
    "            \"inputText\": prompt,\n",
    "            \"textGenerationConfig\": {\n",
    "                \"maxTokenCount\": 512,\n",
    "                \"temperature\": 0,\n",
    "                \"topP\": 0.9\n",
    "            }\n",
    "        }\n",
    "    )\n",
    "}"
   ]
  },
  {
   "cell_type": "code",
   "execution_count": 41,
   "metadata": {},
   "outputs": [
    {
     "name": "stdout",
     "output_type": "stream",
     "text": [
      "\n",
      "Spk_0 is calling the Crystal Heights Hotel in Singapore to book a room for their 10th wedding anniversary. Spk_1 informs Spk_0 about the hotel's exceptional views and services, including the special diamond suite with exclusive access to the moonlit pool and star deck. Spk_0 makes a reservation for one of the diamond suites with a sapphire bay view from October 10th to 17th. The package includes breakfast, complimentary access to the moonlit pool and star deck, a one-time spa treatment for two, and a special romantic dinner at the cloud nine restaurant. Spk_0 provides their personal information for the reservation, including their full name, contact details, and credit card for preauthorization. Spk_1 explains the preauthorization amount of $1000, which will be released upon checkout. Spk_0 expresses concern about the additional charges, including a 10% service charge and a 7% fantasy tax applied to the room rate. Spk_1 assures Spk_0 that the experience at Crystal Heights will be well worth it.\n"
     ]
    }
   ],
   "source": [
    "# Load the json string and get body and read the body and dump into response body variable\n",
    "response = bedrock_runtime.invoke_model(**kwargs)\n",
    "response_body = json.loads(response.get('body').read())\n",
    "\n",
    "generation = response_body['results'][0]['outputText']\n",
    "print(generation)"
   ]
  },
  {
   "cell_type": "code",
   "execution_count": 42,
   "metadata": {},
   "outputs": [
    {
     "name": "stdout",
     "output_type": "stream",
     "text": [
      "{\n",
      "    \"inputTextTokenCount\": 733,\n",
      "    \"results\": [\n",
      "        {\n",
      "            \"tokenCount\": 232,\n",
      "            \"outputText\": \"\\nSpk_0 is calling the Crystal Heights Hotel in Singapore to book a room for their 10th wedding anniversary. Spk_1 informs Spk_0 about the hotel's exceptional views and services, including the special diamond suite with exclusive access to the moonlit pool and star deck. Spk_0 makes a reservation for one of the diamond suites with a sapphire bay view from October 10th to 17th. The package includes breakfast, complimentary access to the moonlit pool and star deck, a one-time spa treatment for two, and a special romantic dinner at the cloud nine restaurant. Spk_0 provides their personal information for the reservation, including their full name, contact details, and credit card for preauthorization. Spk_1 explains the preauthorization amount of $1000, which will be released upon checkout. Spk_0 expresses concern about the additional charges, including a 10% service charge and a 7% fantasy tax applied to the room rate. Spk_1 assures Spk_0 that the experience at Crystal Heights will be well worth it.\",\n",
      "            \"completionReason\": \"FINISH\"\n",
      "        }\n",
      "    ]\n",
      "}\n"
     ]
    }
   ],
   "source": [
    "print(json.dumps(response_body,indent=4))\n",
    "# completion reason is length not finish showing it has not finish its generation"
   ]
  }
 ],
 "metadata": {
  "kernelspec": {
   "display_name": "Python 3",
   "language": "python",
   "name": "python3"
  },
  "language_info": {
   "codemirror_mode": {
    "name": "ipython",
    "version": 3
   },
   "file_extension": ".py",
   "mimetype": "text/x-python",
   "name": "python",
   "nbconvert_exporter": "python",
   "pygments_lexer": "ipython3",
   "version": "3.12.2"
  }
 },
 "nbformat": 4,
 "nbformat_minor": 2
}
