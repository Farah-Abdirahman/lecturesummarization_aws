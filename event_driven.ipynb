{
 "cells": [
  {
   "cell_type": "code",
   "execution_count": 6,
   "metadata": {},
   "outputs": [],
   "source": [
    "import os,boto3\n",
    "bucket_name_text= os.environ['LEARNER_S3_BUCKETNAME_TEXT'] = 'bedrockproject'\n",
    "os.environ['LAMBDALAYERVERSIONARN'] = \"arn:aws:lambda:us-west-2:332848115362:layer:dlai-bedrock-jinja-layer:1\"\n",
    "bucket_name_audio = os.environ['LEARNER_S3_BUCKETNAME_AUDIO'] = 'transcribeaudio-bucket'"
   ]
  },
  {
   "cell_type": "code",
   "execution_count": 7,
   "metadata": {},
   "outputs": [],
   "source": [
    "# We are going to make a fully automated architecture\n",
    "# Put the audio in an audio bucket transcribe it and put it in the text bucket\n",
    "import boto3, os\n",
    "\n",
    "from helpers.Lambda_Helper import Lambda_Helper\n",
    "from helpers.S3_Helper import S3_Helper\n",
    "\n",
    "lambda_helper = Lambda_Helper()\n",
    "s3_helper = S3_Helper()"
   ]
  },
  {
   "cell_type": "code",
   "execution_count": 8,
   "metadata": {},
   "outputs": [
    {
     "name": "stdout",
     "output_type": "stream",
     "text": [
      "Overwriting lambda_function.py\n"
     ]
    }
   ],
   "source": [
    "%%writefile lambda_function.py\n",
    "\n",
    "import json\n",
    "import boto3\n",
    "import uuid\n",
    "import os\n",
    "\n",
    "s3_client = boto3.client('s3')\n",
    "transcribe_client = boto3.client('transcribe',region_name='us-west-2')\n",
    "\n",
    "def lambda_handler(event,context):\n",
    "    # Extracting the bucket name and key from incoming event\n",
    "    bucket = event['Records'][0]['s3']['bucket']['name']\n",
    "    key = event['Records'][0]['s3']['bucket']['name']\n",
    "\n",
    "    if key != 'dialog.mp3':\n",
    "        print(\"This demo only works with dialog.mp3.\")\n",
    "        return\n",
    "    \n",
    "    try:\n",
    "\n",
    "        job_name = 'transcription-job-' + str(uuid.uuid4())\n",
    "\n",
    "        response = transcribe_client.start_transcription_job(\n",
    "            TranscriptionJobName = job_name,\n",
    "            Media = {'MediaFileUri' : f's3://{bucket}/{key}'},\n",
    "            MediaFormat = 'mp3',\n",
    "            LanguageCode = 'en-US',\n",
    "            OutputBucketName = os.environ['S3BUCKETNAMETEXT'],\n",
    "            OutputKey=f'{job_name}-transcript.json',\n",
    "            Settings = {\n",
    "                'ShowSpeakerLabels':True,\n",
    "                'MaxSpeakerLabels':2\n",
    "            }\n",
    "\n",
    "        )\n",
    "    \n",
    "    except Exception as e:\n",
    "        print(f\"Error occurred: {e}\")\n",
    "        return {\n",
    "            'statusCode': 500,\n",
    "            'body': json.dumps(f\"Error occurred: {e}\")\n",
    "        }\n",
    "\n",
    "    return {\n",
    "        'statusCode': 200,\n",
    "        'body': json.dumps(f\"Submitted transcription job for {key} from bucket {bucket}.\")\n",
    "    }\n"
   ]
  },
  {
   "cell_type": "code",
   "execution_count": 9,
   "metadata": {},
   "outputs": [
    {
     "name": "stdout",
     "output_type": "stream",
     "text": [
      "Zipping function...\n",
      "Looking for existing function...\n",
      "Function LambdaFunctionTranscribe does not exist. Creating...\n",
      "Function LambdaFunctionTranscribe created: arn:aws:lambda:us-west-2:332848115362:function:LambdaFunctionTranscribe\n",
      "Done.\n"
     ]
    }
   ],
   "source": [
    "lambda_helper.lambda_environ_variables = {'S3BUCKETNAMETEXT' : bucket_name_text}\n",
    "lambda_helper.deploy_function([\"lambda_function.py\"], function_name=\"LambdaFunctionTranscribe\")"
   ]
  },
  {
   "cell_type": "code",
   "execution_count": 10,
   "metadata": {},
   "outputs": [
    {
     "name": "stdout",
     "output_type": "stream",
     "text": [
      "Object 'dialog.mp3' uploaded to bucket 'transcribeaudio-bucket'\n"
     ]
    }
   ],
   "source": [
    "# Trigger is an mp3 file\n",
    "s3_helper.upload_file(bucket_name_audio, 'dialog.mp3')"
   ]
  },
  {
   "cell_type": "code",
   "execution_count": 11,
   "metadata": {},
   "outputs": [
    {
     "name": "stdout",
     "output_type": "stream",
     "text": [
      "Object: dialog.mp3, Created on: 2024-03-20 11:39:16+00:00\n"
     ]
    }
   ],
   "source": [
    "s3_helper.list_objects(bucket_name_audio)\n",
    "# We check the audio bucket"
   ]
  },
  {
   "cell_type": "code",
   "execution_count": 12,
   "metadata": {},
   "outputs": [
    {
     "name": "stdout",
     "output_type": "stream",
     "text": [
      "Object: .write_access_check_file.temp, Created on: 2024-03-03 10:02:53+00:00\n",
      "Object: dialog.mp3, Created on: 2024-03-03 10:02:25+00:00\n",
      "Object: transcription-job-6230cc89-e538-4168-a681-61201b25d1aa.json, Created on: 2024-03-03 10:03:11+00:00\n"
     ]
    }
   ],
   "source": [
    "# Now we check the text bucket and what it contains\n",
    "s3_helper.list_objects(bucket_name_text)"
   ]
  },
  {
   "cell_type": "code",
   "execution_count": 13,
   "metadata": {},
   "outputs": [
    {
     "name": "stdout",
     "output_type": "stream",
     "text": [
      "Error: An error occurred (404) when calling the HeadObject operation: Not Found\n"
     ]
    }
   ],
   "source": [
    "s3_helper.download_object(bucket_name_text, 'results.txt')"
   ]
  }
 ],
 "metadata": {
  "kernelspec": {
   "display_name": "Python 3",
   "language": "python",
   "name": "python3"
  },
  "language_info": {
   "codemirror_mode": {
    "name": "ipython",
    "version": 3
   },
   "file_extension": ".py",
   "mimetype": "text/x-python",
   "name": "python",
   "nbconvert_exporter": "python",
   "pygments_lexer": "ipython3",
   "version": "3.12.2"
  }
 },
 "nbformat": 4,
 "nbformat_minor": 2
}
